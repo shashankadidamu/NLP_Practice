{
 "cells": [
  {
   "cell_type": "code",
   "execution_count": 2,
   "metadata": {
    "collapsed": false
   },
   "outputs": [],
   "source": [
    "from sklearn import preprocessing, linear_model, naive_bayes, metrics, svm\n"
   ]
  },
  {
   "cell_type": "code",
   "execution_count": 30,
   "metadata": {
    "collapsed": true
   },
   "outputs": [],
   "source": [
    "from sklearn import cross_validation"
   ]
  },
  {
   "cell_type": "code",
   "execution_count": 3,
   "metadata": {
    "collapsed": true
   },
   "outputs": [],
   "source": [
    "from sklearn.feature_extraction.text import TfidfVectorizer, CountVectorizer\n"
   ]
  },
  {
   "cell_type": "code",
   "execution_count": 4,
   "metadata": {
    "collapsed": false
   },
   "outputs": [
    {
     "name": "stderr",
     "output_type": "stream",
     "text": [
      "/Users/shashankadidamu/anaconda/lib/python3.5/site-packages/sklearn/ensemble/weight_boosting.py:29: DeprecationWarning: numpy.core.umath_tests is an internal NumPy module and should not be imported. It will be removed in a future NumPy release.\n",
      "  from numpy.core.umath_tests import inner1d\n"
     ]
    }
   ],
   "source": [
    "from sklearn import decomposition, ensemble"
   ]
  },
  {
   "cell_type": "code",
   "execution_count": 7,
   "metadata": {
    "collapsed": false
   },
   "outputs": [],
   "source": [
    "import pandas, numpy, string"
   ]
  },
  {
   "cell_type": "code",
   "execution_count": 9,
   "metadata": {
    "collapsed": false
   },
   "outputs": [],
   "source": [
    "#load the dataset\n",
    "data = open('textdata/corpus').read()\n",
    "labels, texts = [], []\n",
    "for i, line in enumerate(data.split(\"\\n\")):\n",
    "    content = line.split()\n",
    "    labels.append(content[0])\n",
    "    texts.append(\" \".join(content[1:]))\n",
    "\n",
    "# create a dataframe using texts and lables\n",
    "trainDF = pandas.DataFrame()\n",
    "trainDF['text'] = texts\n",
    "trainDF['label'] = labels"
   ]
  },
  {
   "cell_type": "code",
   "execution_count": 15,
   "metadata": {
    "collapsed": false
   },
   "outputs": [
    {
     "data": {
      "text/plain": [
       "(10000, 2)"
      ]
     },
     "execution_count": 15,
     "metadata": {},
     "output_type": "execute_result"
    }
   ],
   "source": [
    "trainDF.shape"
   ]
  },
  {
   "cell_type": "code",
   "execution_count": 28,
   "metadata": {
    "collapsed": false
   },
   "outputs": [
    {
     "data": {
      "text/plain": [
       "'Stuning even for the non-gamer: This sound track was beautiful! It paints the senery in your mind so well I would recomend it even to people who hate vid. game music! I have played the game Chrono Cross but out of all of the games I have ever played it has the best music! It backs away from crude keyboarding and takes a fresher step with grate guitars and soulful orchestras. It would impress anyone who cares to listen! ^_^'"
      ]
     },
     "execution_count": 28,
     "metadata": {},
     "output_type": "execute_result"
    }
   ],
   "source": [
    "trainDF['text'][0]"
   ]
  },
  {
   "cell_type": "code",
   "execution_count": 36,
   "metadata": {
    "collapsed": false
   },
   "outputs": [
    {
     "data": {
      "text/plain": [
       "'__label__2'"
      ]
     },
     "execution_count": 36,
     "metadata": {},
     "output_type": "execute_result"
    }
   ],
   "source": [
    "trainDF['label'][0]"
   ]
  },
  {
   "cell_type": "code",
   "execution_count": 31,
   "metadata": {
    "collapsed": false
   },
   "outputs": [],
   "source": [
    "# split the dataset into training and validation datasets \n",
    "train_x, valid_x, train_y, valid_y = cross_validation.train_test_split(trainDF['text'], trainDF['label'])\n",
    "\n",
    "# label encode the target variable \n",
    "encoder = preprocessing.LabelEncoder()\n",
    "train_y = encoder.fit_transform(train_y)\n",
    "valid_y = encoder.fit_transform(valid_y)"
   ]
  },
  {
   "cell_type": "code",
   "execution_count": 41,
   "metadata": {
    "collapsed": false
   },
   "outputs": [
    {
     "data": {
      "text/plain": [
       "0"
      ]
     },
     "execution_count": 41,
     "metadata": {},
     "output_type": "execute_result"
    }
   ],
   "source": [
    "train_y[0]"
   ]
  },
  {
   "cell_type": "code",
   "execution_count": 42,
   "metadata": {
    "collapsed": true
   },
   "outputs": [],
   "source": [
    "# create a count vectorizer object \n",
    "count_vect = CountVectorizer(analyzer='word', token_pattern=r'\\w{1,}')\n",
    "count_vect.fit(trainDF['text'])\n",
    "\n",
    "# transform the training and validation data using count vectorizer object\n",
    "xtrain_count =  count_vect.transform(train_x)\n",
    "xvalid_count =  count_vect.transform(valid_x)"
   ]
  },
  {
   "cell_type": "code",
   "execution_count": 47,
   "metadata": {
    "collapsed": false
   },
   "outputs": [
    {
     "data": {
      "text/plain": [
       "<7500x31666 sparse matrix of type '<class 'numpy.int64'>'\n",
       "\twith 438990 stored elements in Compressed Sparse Row format>"
      ]
     },
     "execution_count": 47,
     "metadata": {},
     "output_type": "execute_result"
    }
   ],
   "source": [
    "xtrain_count"
   ]
  },
  {
   "cell_type": "code",
   "execution_count": 46,
   "metadata": {
    "collapsed": false
   },
   "outputs": [
    {
     "name": "stdout",
     "output_type": "stream",
     "text": [
      "  (0, 988)\t1\n",
      "  (0, 1743)\t1\n",
      "  (0, 3034)\t1\n",
      "  (0, 4400)\t1\n",
      "  (0, 4582)\t1\n",
      "  (0, 5006)\t1\n",
      "  (0, 8755)\t1\n",
      "  (0, 12441)\t1\n",
      "  (0, 12797)\t1\n",
      "  (0, 14030)\t4\n",
      "  (0, 18531)\t1\n",
      "  (0, 19240)\t1\n",
      "  (0, 19877)\t1\n",
      "  (0, 21179)\t1\n",
      "  (0, 23722)\t1\n",
      "  (0, 24367)\t1\n",
      "  (0, 24491)\t1\n",
      "  (0, 27636)\t1\n",
      "  (0, 28005)\t3\n",
      "  (0, 28082)\t2\n",
      "  (0, 28203)\t1\n",
      "  (0, 29077)\t1\n",
      "  (0, 29269)\t1\n",
      "  (0, 30232)\t1\n",
      "  (0, 30607)\t3\n",
      "  :\t:\n",
      "  (7499, 9430)\t1\n",
      "  (7499, 9751)\t1\n",
      "  (7499, 11406)\t1\n",
      "  (7499, 13397)\t1\n",
      "  (7499, 14336)\t2\n",
      "  (7499, 15128)\t1\n",
      "  (7499, 15256)\t1\n",
      "  (7499, 16404)\t2\n",
      "  (7499, 19291)\t1\n",
      "  (7499, 19525)\t2\n",
      "  (7499, 19957)\t1\n",
      "  (7499, 19973)\t1\n",
      "  (7499, 24547)\t1\n",
      "  (7499, 24548)\t1\n",
      "  (7499, 25027)\t1\n",
      "  (7499, 25189)\t1\n",
      "  (7499, 28082)\t2\n",
      "  (7499, 28113)\t1\n",
      "  (7499, 28224)\t2\n",
      "  (7499, 28417)\t1\n",
      "  (7499, 28458)\t1\n",
      "  (7499, 30607)\t2\n",
      "  (7499, 31102)\t1\n",
      "  (7499, 31167)\t1\n",
      "  (7499, 31514)\t1\n"
     ]
    }
   ],
   "source": [
    "print(xtrain_count)"
   ]
  },
  {
   "cell_type": "code",
   "execution_count": 53,
   "metadata": {
    "collapsed": false
   },
   "outputs": [
    {
     "name": "stdout",
     "output_type": "stream",
     "text": [
      "  (0, 988)\t1\n",
      "  (0, 1743)\t1\n",
      "  (0, 3034)\t1\n",
      "  (0, 4400)\t1\n",
      "  (0, 4582)\t1\n",
      "  (0, 5006)\t1\n",
      "  (0, 8755)\t1\n",
      "  (0, 12441)\t1\n",
      "  (0, 12797)\t1\n",
      "  (0, 14030)\t4\n",
      "  (0, 18531)\t1\n",
      "  (0, 19240)\t1\n",
      "  (0, 19877)\t1\n",
      "  (0, 21179)\t1\n",
      "  (0, 23722)\t1\n",
      "  (0, 24367)\t1\n",
      "  (0, 24491)\t1\n",
      "  (0, 27636)\t1\n",
      "  (0, 28005)\t3\n",
      "  (0, 28082)\t2\n",
      "  (0, 28203)\t1\n",
      "  (0, 29077)\t1\n",
      "  (0, 29269)\t1\n",
      "  (0, 30232)\t1\n",
      "  (0, 30607)\t3\n"
     ]
    }
   ],
   "source": [
    "print(xtrain_count[0,:])"
   ]
  },
  {
   "cell_type": "code",
   "execution_count": 51,
   "metadata": {
    "collapsed": false
   },
   "outputs": [
    {
     "data": {
      "text/plain": [
       "1"
      ]
     },
     "execution_count": 51,
     "metadata": {},
     "output_type": "execute_result"
    }
   ],
   "source": [
    "xtrain_count[0, 988]"
   ]
  },
  {
   "cell_type": "code",
   "execution_count": 57,
   "metadata": {
    "collapsed": false
   },
   "outputs": [
    {
     "data": {
      "text/plain": [
       "0"
      ]
     },
     "execution_count": 57,
     "metadata": {},
     "output_type": "execute_result"
    }
   ],
   "source": [
    "xtrain_count[0,31665]"
   ]
  },
  {
   "cell_type": "code",
   "execution_count": 58,
   "metadata": {
    "collapsed": false
   },
   "outputs": [
    {
     "name": "stderr",
     "output_type": "stream",
     "text": [
      "/Users/shashankadidamu/anaconda/lib/python3.5/site-packages/sklearn/feature_extraction/text.py:1015: FutureWarning: Conversion of the second argument of issubdtype from `float` to `np.floating` is deprecated. In future, it will be treated as `np.float64 == np.dtype(float).type`.\n",
      "  if hasattr(X, 'dtype') and np.issubdtype(X.dtype, np.float):\n"
     ]
    }
   ],
   "source": [
    "# word level tf-idf\n",
    "tfidf_vect = TfidfVectorizer(analyzer='word', token_pattern=r'\\w{1,}', max_features=5000)\n",
    "tfidf_vect.fit(trainDF['text'])\n",
    "xtrain_tfidf =  tfidf_vect.transform(train_x)\n",
    "xvalid_tfidf =  tfidf_vect.transform(valid_x)"
   ]
  },
  {
   "cell_type": "code",
   "execution_count": 66,
   "metadata": {
    "collapsed": false
   },
   "outputs": [
    {
     "data": {
      "text/plain": [
       "<7500x5000 sparse matrix of type '<class 'numpy.float64'>'\n",
       "\twith 397207 stored elements in Compressed Sparse Row format>"
      ]
     },
     "execution_count": 66,
     "metadata": {},
     "output_type": "execute_result"
    }
   ],
   "source": [
    "xtrain_tfidf"
   ]
  },
  {
   "cell_type": "code",
   "execution_count": 63,
   "metadata": {
    "collapsed": false
   },
   "outputs": [
    {
     "name": "stdout",
     "output_type": "stream",
     "text": [
      "  (0, 4809)\t0.24002547780271127\n",
      "  (0, 4743)\t0.18955150876146115\n",
      "  (0, 4604)\t0.1875781603694495\n",
      "  (0, 4453)\t0.146949944790348\n",
      "  (0, 4428)\t0.09386895261266684\n",
      "  (0, 4406)\t0.6120107418365238\n",
      "  (0, 4338)\t0.08585045004098321\n",
      "  (0, 3809)\t0.20755154485871488\n",
      "  (0, 3790)\t0.16393159703529286\n",
      "  (0, 3703)\t0.24853961046658676\n",
      "  (0, 3303)\t0.17585436605711394\n",
      "  (0, 3118)\t0.1341802180150511\n",
      "  (0, 3025)\t0.07951880985226512\n",
      "  (0, 2928)\t0.12888028964030657\n",
      "  (0, 2223)\t0.21984464812452295\n",
      "  (0, 2020)\t0.21119793415805793\n",
      "  (0, 1964)\t0.1073713007505118\n",
      "  (0, 1333)\t0.12612400542279195\n",
      "  (0, 728)\t0.2507505452078495\n",
      "  (0, 658)\t0.11317605111322696\n",
      "  (0, 631)\t0.07860564338324683\n",
      "  (0, 426)\t0.09500834586275278\n",
      "  (0, 243)\t0.0512596970684102\n",
      "  (0, 124)\t0.2036270213325219\n"
     ]
    }
   ],
   "source": [
    "print(xtrain_tfidf[0,:])"
   ]
  },
  {
   "cell_type": "code",
   "execution_count": 64,
   "metadata": {
    "collapsed": false
   },
   "outputs": [
    {
     "name": "stderr",
     "output_type": "stream",
     "text": [
      "/Users/shashankadidamu/anaconda/lib/python3.5/site-packages/sklearn/feature_extraction/text.py:1015: FutureWarning: Conversion of the second argument of issubdtype from `float` to `np.floating` is deprecated. In future, it will be treated as `np.float64 == np.dtype(float).type`.\n",
      "  if hasattr(X, 'dtype') and np.issubdtype(X.dtype, np.float):\n"
     ]
    }
   ],
   "source": [
    "# ngram level tf-idf \n",
    "tfidf_vect_ngram = TfidfVectorizer(analyzer='word', token_pattern=r'\\w{1,}', ngram_range=(2,3), max_features=5000)\n",
    "tfidf_vect_ngram.fit(trainDF['text'])\n",
    "xtrain_tfidf_ngram =  tfidf_vect_ngram.transform(train_x)\n",
    "xvalid_tfidf_ngram =  tfidf_vect_ngram.transform(valid_x)"
   ]
  },
  {
   "cell_type": "code",
   "execution_count": 65,
   "metadata": {
    "collapsed": false
   },
   "outputs": [
    {
     "data": {
      "text/plain": [
       "<7500x5000 sparse matrix of type '<class 'numpy.float64'>'\n",
       "\twith 262462 stored elements in Compressed Sparse Row format>"
      ]
     },
     "execution_count": 65,
     "metadata": {},
     "output_type": "execute_result"
    }
   ],
   "source": [
    "xtrain_tfidf_ngram"
   ]
  },
  {
   "cell_type": "code",
   "execution_count": 67,
   "metadata": {
    "collapsed": false
   },
   "outputs": [
    {
     "name": "stdout",
     "output_type": "stream",
     "text": [
      "  (0, 4594)\t0.653532778384998\n",
      "  (0, 4021)\t0.17515894963081466\n",
      "  (0, 3843)\t0.12182779852482868\n",
      "  (0, 3784)\t0.13463985929854727\n",
      "  (0, 3455)\t0.1682881493940533\n",
      "  (0, 3216)\t0.20004469765232796\n",
      "  (0, 3024)\t0.20320551579771726\n",
      "  (0, 2947)\t0.19650160454624033\n",
      "  (0, 2675)\t0.1607289589183627\n",
      "  (0, 1744)\t0.21406921842329274\n",
      "  (0, 1743)\t0.16572075107550058\n",
      "  (0, 1633)\t0.1599023067887419\n",
      "  (0, 1594)\t0.13013804389918945\n",
      "  (0, 1593)\t0.13013804389918945\n",
      "  (0, 1573)\t0.1178348961360146\n",
      "  (0, 1037)\t0.17796005641410853\n",
      "  (0, 1022)\t0.091486829956835\n",
      "  (0, 883)\t0.19393420622768764\n",
      "  (0, 796)\t0.2107068693136348\n",
      "  (0, 793)\t0.1105097612088409\n",
      "  (0, 363)\t0.09714934986353502\n",
      "  (0, 215)\t0.21178736412089025\n"
     ]
    }
   ],
   "source": [
    "print(xtrain_tfidf_ngram[0,:])"
   ]
  },
  {
   "cell_type": "code",
   "execution_count": 68,
   "metadata": {
    "collapsed": false
   },
   "outputs": [
    {
     "name": "stderr",
     "output_type": "stream",
     "text": [
      "/Users/shashankadidamu/anaconda/lib/python3.5/site-packages/sklearn/feature_extraction/text.py:1015: FutureWarning: Conversion of the second argument of issubdtype from `float` to `np.floating` is deprecated. In future, it will be treated as `np.float64 == np.dtype(float).type`.\n",
      "  if hasattr(X, 'dtype') and np.issubdtype(X.dtype, np.float):\n"
     ]
    }
   ],
   "source": [
    "# characters level tf-idf\n",
    "tfidf_vect_ngram_chars = TfidfVectorizer(analyzer='char', token_pattern=r'\\w{1,}', ngram_range=(2,3), max_features=5000)\n",
    "tfidf_vect_ngram_chars.fit(trainDF['text'])\n",
    "xtrain_tfidf_ngram_chars =  tfidf_vect_ngram_chars.transform(train_x) \n",
    "xvalid_tfidf_ngram_chars =  tfidf_vect_ngram_chars.transform(valid_x) \n"
   ]
  },
  {
   "cell_type": "code",
   "execution_count": 69,
   "metadata": {
    "collapsed": false
   },
   "outputs": [
    {
     "data": {
      "text/plain": [
       "<7500x5000 sparse matrix of type '<class 'numpy.float64'>'\n",
       "\twith 3390892 stored elements in Compressed Sparse Row format>"
      ]
     },
     "execution_count": 69,
     "metadata": {},
     "output_type": "execute_result"
    }
   ],
   "source": [
    "xtrain_tfidf_ngram_chars"
   ]
  },
  {
   "cell_type": "code",
   "execution_count": 70,
   "metadata": {
    "collapsed": false
   },
   "outputs": [
    {
     "name": "stdout",
     "output_type": "stream",
     "text": [
      "  (0, 4883)\t0.04661614589734774\n",
      "  (0, 4867)\t0.020466418024739034\n",
      "  (0, 4786)\t0.05362256920814933\n",
      "  (0, 4776)\t0.03353658087604682\n",
      "  (0, 4771)\t0.10381898474543236\n",
      "  (0, 4765)\t0.0812244477124766\n",
      "  (0, 4753)\t0.06402616859921238\n",
      "  (0, 4736)\t0.036845262692835744\n",
      "  (0, 4719)\t0.09385213930888417\n",
      "  (0, 4718)\t0.07056081222994803\n",
      "  (0, 4714)\t0.1045238633386527\n",
      "  (0, 4657)\t0.02868369972513951\n",
      "  (0, 4656)\t0.025747220749919156\n",
      "  (0, 4553)\t0.12111851235669738\n",
      "  (0, 4540)\t0.07077859354687871\n",
      "  (0, 4532)\t0.048329381079497045\n",
      "  (0, 4427)\t0.068459046391192\n",
      "  (0, 4421)\t0.034037264067775914\n",
      "  (0, 4387)\t0.040333595366717344\n",
      "  (0, 4377)\t0.024028575392564398\n",
      "  (0, 4369)\t0.023194819299298907\n",
      "  (0, 4368)\t0.06198627273803348\n",
      "  (0, 4362)\t0.0783870773066066\n",
      "  (0, 4356)\t0.093396168304174\n",
      "  (0, 4341)\t0.06751308369287472\n",
      "  :\t:\n",
      "  (0, 267)\t0.024401465118923514\n",
      "  (0, 260)\t0.047046601337001934\n",
      "  (0, 254)\t0.02348473236077189\n",
      "  (0, 250)\t0.05708008139511983\n",
      "  (0, 238)\t0.02114840329025226\n",
      "  (0, 236)\t0.02977802949609404\n",
      "  (0, 232)\t0.02558914632824458\n",
      "  (0, 226)\t0.03295466622708799\n",
      "  (0, 221)\t0.021719218705403862\n",
      "  (0, 189)\t0.10496141084254008\n",
      "  (0, 188)\t0.07907992885708064\n",
      "  (0, 179)\t0.06853206048195976\n",
      "  (0, 177)\t0.0377026371835727\n",
      "  (0, 170)\t0.05056937368075878\n",
      "  (0, 138)\t0.03572049407280205\n",
      "  (0, 134)\t0.023648222714788777\n",
      "  (0, 126)\t0.0768334365131565\n",
      "  (0, 124)\t0.0367122874786348\n",
      "  (0, 123)\t0.044628184293995836\n",
      "  (0, 121)\t0.03177819862470407\n",
      "  (0, 116)\t0.028149698766158363\n",
      "  (0, 114)\t0.041444435541343215\n",
      "  (0, 105)\t0.0221837960255215\n",
      "  (0, 97)\t0.05308709921453273\n",
      "  (0, 94)\t0.03936636509977258\n"
     ]
    }
   ],
   "source": [
    "print(xtrain_tfidf_ngram_chars[0,:])"
   ]
  },
  {
   "cell_type": "code",
   "execution_count": null,
   "metadata": {
    "collapsed": false
   },
   "outputs": [],
   "source": [
    "# Linear Classifier on Count Vectors\n",
    "lrm = linear_model.LogisticRegression()\n",
    "\n",
    "lrm.fit(xtrain_count, train_x)\n",
    "\n",
    "preds_count = lrm.predict(xvalid_count)\n",
    "\n"
   ]
  },
  {
   "cell_type": "code",
   "execution_count": null,
   "metadata": {
    "collapsed": true
   },
   "outputs": [],
   "source": [
    "# Linear Classifier on Word Level TF IDF Vectors\n",
    "accuracy = train_model(linear_model.LogisticRegression(), xtrain_tfidf, train_y, xvalid_tfidf)\n",
    "print(\"LR, WordLevel TF-IDF: \", accuracy)\n",
    "\n"
   ]
  },
  {
   "cell_type": "code",
   "execution_count": null,
   "metadata": {
    "collapsed": true
   },
   "outputs": [],
   "source": [
    "# Linear Classifier on Ngram Level TF IDF Vectors\n",
    "accuracy = train_model(linear_model.LogisticRegression(), xtrain_tfidf_ngram, train_y, xvalid_tfidf_ngram)\n",
    "print(\"LR, N-Gram Vectors: \", accuracy)\n",
    "\n"
   ]
  },
  {
   "cell_type": "code",
   "execution_count": null,
   "metadata": {
    "collapsed": true
   },
   "outputs": [],
   "source": [
    "# Linear Classifier on Character Level TF IDF Vectors\n",
    "accuracy = train_model(linear_model.LogisticRegression(), xtrain_tfidf_ngram_chars, train_y, xvalid_tfidf_ngram_chars)\n",
    "print(\"LR, CharLevel Vectors: \", accuracy)"
   ]
  }
 ],
 "metadata": {
  "kernelspec": {
   "display_name": "Python 3",
   "language": "python",
   "name": "python3"
  },
  "language_info": {
   "codemirror_mode": {
    "name": "ipython",
    "version": 3
   },
   "file_extension": ".py",
   "mimetype": "text/x-python",
   "name": "python",
   "nbconvert_exporter": "python",
   "pygments_lexer": "ipython3",
   "version": "3.5.2"
  }
 },
 "nbformat": 4,
 "nbformat_minor": 2
}
